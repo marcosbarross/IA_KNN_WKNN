{
  "cells": [
    {
      "cell_type": "markdown",
      "id": "ba82be33",
      "metadata": {
        "id": "ba82be33"
      },
      "source": [
        "Marcos André Monteiro de Barros"
      ]
    },
    {
      "cell_type": "markdown",
      "id": "270b52de",
      "metadata": {
        "id": "270b52de"
      },
      "source": [
        "<h2>Implementação da classe KNN</h2>"
      ]
    },
    {
      "cell_type": "code",
      "execution_count": null,
      "id": "c3bda334",
      "metadata": {
        "id": "c3bda334"
      },
      "outputs": [],
      "source": [
        "import numpy as np\n",
        "from collections import Counter\n",
        "\n",
        "def euclidian_distance(x1, x2):\n",
        "    distance = np.sqrt(np.sum((x1 - x2)**2))\n",
        "    return distance\n",
        "\n",
        "class KNN:\n",
        "    def __init__(self, k=3):\n",
        "        self.k = k\n",
        "        \n",
        "    def fit(self, X, y):\n",
        "        self.X_train = X\n",
        "        self.y_train = y\n",
        "    \n",
        "    def predict(self, X):\n",
        "        predicitons = [self._predict(x) for x in X]\n",
        "        return predicitons\n",
        "\n",
        "    def _predict(self, x):\n",
        "        \n",
        "        distances = [euclidian_distance(x, x_train) for x_train in self.X_train]\n",
        "\n",
        "        k_indices = np.argsort(distances)[:self.k]\n",
        "        k_nearest_labels = [self.y_train[i] for i in k_indices]\n",
        "\n",
        "        most_common = Counter(k_nearest_labels).most_common()\n",
        "        return most_common[0][0]\n"
      ]
    },
    {
      "cell_type": "markdown",
      "id": "b557f112",
      "metadata": {
        "id": "b557f112"
      },
      "source": [
        "<h2>Treino da classe KNN</h2>"
      ]
    },
    {
      "cell_type": "code",
      "execution_count": null,
      "id": "8a900940",
      "metadata": {
        "id": "8a900940",
        "outputId": "efffd8a1-3d8f-4f8f-adc5-3d09b1ed4f05",
        "colab": {
          "base_uri": "https://localhost:8080/"
        }
      },
      "outputs": [
        {
          "output_type": "stream",
          "name": "stdout",
          "text": [
            "A média da acuracia foi de 100.0%\n"
          ]
        }
      ],
      "source": [
        "import numpy as np\n",
        "from sklearn import datasets\n",
        "from sklearn.model_selection import train_test_split\n",
        "from random import randint\n",
        "\n",
        "iris = datasets.load_iris()\n",
        "X, y = iris.data, iris.target\n",
        "acc_cont = 0\n",
        "\n",
        "for i in range(5):\n",
        "    X_train, X_test, y_train, y_test = train_test_split(X, y, test_size=0.2, random_state= 42)\n",
        "\n",
        "    clf = KNN(k=5)\n",
        "    clf.fit(X_train, y_train)\n",
        "    predictions = clf.predict(X_test)\n",
        "\n",
        "    acc_cont += np.sum(predictions == y_test) / len(y_test)\n",
        "\n",
        "\n",
        "acc = acc_cont / 5\n",
        "\n",
        "print(f\"A média da acuracia foi de {round(acc, 4)*100}%\")"
      ]
    },
    {
      "cell_type": "markdown",
      "id": "123b0235",
      "metadata": {
        "id": "123b0235"
      },
      "source": [
        " <h2>Classe WKNN</h2>"
      ]
    },
    {
      "cell_type": "code",
      "execution_count": null,
      "id": "bddee8b0",
      "metadata": {
        "id": "bddee8b0"
      },
      "outputs": [],
      "source": [
        "import numpy as np\n",
        "from collections import Counter\n",
        "\n",
        "def euclidian_distance(x1, x2):\n",
        "    distance = np.sqrt(np.sum((x1 - x2)**2))\n",
        "    #weight = 1 / (1 + distance)\n",
        "    return distance\n",
        "\n",
        "class WKNN:\n",
        "    def __init__(self, k=3):\n",
        "        self.k = k\n",
        "        \n",
        "    def fit(self, X, y):\n",
        "        self.X_train = X\n",
        "        self.y_train = y\n",
        "\n",
        "    def predict(self, X):\n",
        "        return [self._predict(x) for x in X]\n",
        "\n",
        "\n",
        "    def _predict(self, x):\n",
        "        \n",
        "        distances = [euclidian_distance(x, x_train) for x_train in self.X_train]\n",
        "\n",
        "        k_indices = np.argsort(distances)[:self.k]\n",
        "        k_nearest_labels = [self.y_train[i] for i in k_indices]\n",
        "        weight = 0\n",
        "\n",
        "        weighted_labels = {}\n",
        "        \n",
        "        for i in range(self.k):\n",
        "            index = k_indices[i]\n",
        "            weight = 0\n",
        "\n",
        "            if euclidian_distance(x, self.X_train[k_indices[-1]]) == euclidian_distance(x, self.X_train[k_indices[0]]):\n",
        "                weight = 1\n",
        "            else:\n",
        "                weight = (euclidian_distance(x, self.X_train[k_indices[-1]]) - euclidian_distance(x, self.X_train[index])) / (euclidian_distance(x, self.X_train[k_indices[-1]]) - euclidian_distance(x, self.X_train[k_indices[0]]))\n",
        "\n",
        "            label = self.y_train[index]\n",
        "            if label in weighted_labels:\n",
        "                weighted_labels[label] += weight\n",
        "            else:\n",
        "                weighted_labels[label] = weight\n",
        "        \n",
        "        return max(weighted_labels, key=weighted_labels.get)"
      ]
    },
    {
      "cell_type": "markdown",
      "id": "05b34e25",
      "metadata": {
        "id": "05b34e25"
      },
      "source": [
        "<h2>Treino WKNN</h2>"
      ]
    },
    {
      "cell_type": "code",
      "execution_count": null,
      "id": "fb0a8fe3",
      "metadata": {
        "id": "fb0a8fe3",
        "outputId": "799d1d46-df1a-486b-8b98-086ca570125f",
        "colab": {
          "base_uri": "https://localhost:8080/"
        }
      },
      "outputs": [
        {
          "output_type": "stream",
          "name": "stdout",
          "text": [
            "A média da acuracia foi de 100.0%\n"
          ]
        }
      ],
      "source": [
        "import numpy as np\n",
        "from sklearn import datasets\n",
        "from sklearn.model_selection import train_test_split\n",
        "from random import randint\n",
        "\n",
        "iris = datasets.load_iris()\n",
        "X, y = iris.data, iris.target\n",
        "acc_cont = 0\n",
        "\n",
        "\n",
        "for i in range(5):\n",
        "    X_train, X_test, y_train, y_test = train_test_split(X, y, test_size=0.2, random_state= 42)\n",
        "\n",
        "    clf = WKNN(k=5)\n",
        "    clf.fit(X_train, y_train)\n",
        "    predictions = clf.predict(X_test)\n",
        "\n",
        "    #print(predictions)\n",
        "\n",
        "    acc_cont += np.sum(predictions == y_test) / len(y_test)\n",
        "    \n",
        "acc = acc_cont / 5\n",
        "print(f\"A média da acuracia foi de {acc*100}%\")"
      ]
    },
    {
      "cell_type": "markdown",
      "source": [
        "<h2>Treino com múltiplos datasets KNN</h2>"
      ],
      "metadata": {
        "id": "QTRdyzMJI6jR"
      },
      "id": "QTRdyzMJI6jR"
    },
    {
      "cell_type": "code",
      "source": [
        "import numpy as np\n",
        "from sklearn import datasets\n",
        "from sklearn.model_selection import train_test_split\n",
        "from random import randint\n",
        "\n",
        "datasets_list = [datasets.load_iris(), datasets.load_digits(), datasets.load_wine(), datasets.load_breast_cancer()]\n",
        "dataset_names = [\"Iris\", \"Digits\", \"Wine\", \"Breast Cancer\"]\n",
        "\n",
        "for i, dataset in enumerate(datasets_list):\n",
        "    X, y = dataset.data, dataset.target\n",
        "    acc_count_KNN = 0\n",
        "    \n",
        "    for j in range(5):\n",
        "        X_train, X_test, y_train, y_test = train_test_split(X, y, test_size=0.4, random_state= 42)\n",
        "\n",
        "        clf = KNN(k=5)\n",
        "        clf.fit(X_train, y_train)\n",
        "        predictions = clf.predict(X_test)\n",
        "        correct_predictions = np.sum(predictions == y_test)\n",
        "        acc_count_KNN += correct_predictions\n",
        "\n",
        "\n",
        "    KNN_accuracy = acc_count_KNN / (5 * len(y_test))\n",
        "    print(f\"A média da acurácia do algoritmo {dataset_names[i]} foi de {round(KNN_accuracy, 4)*100}%\")"
      ],
      "metadata": {
        "id": "obJZ8mk5JAUd",
        "outputId": "0b74af44-edf3-4287-df0e-d1c0e9932295",
        "colab": {
          "base_uri": "https://localhost:8080/"
        }
      },
      "id": "obJZ8mk5JAUd",
      "execution_count": null,
      "outputs": [
        {
          "output_type": "stream",
          "name": "stdout",
          "text": [
            "A média da acurácia do algoritmo Iris foi de 98.33%\n",
            "A média da acurácia do algoritmo Digits foi de 98.89%\n",
            "A média da acurácia do algoritmo Wine foi de 69.44%\n",
            "A média da acurácia do algoritmo Breast Cancer foi de 95.61%\n"
          ]
        }
      ]
    },
    {
      "cell_type": "markdown",
      "source": [
        "<h2>Treino com múltiplos datasets WKNN</h2>\n"
      ],
      "metadata": {
        "id": "RmqLA41tJCKT"
      },
      "id": "RmqLA41tJCKT"
    },
    {
      "cell_type": "code",
      "source": [
        "import numpy as np\n",
        "from sklearn import datasets\n",
        "from sklearn.model_selection import train_test_split\n",
        "from random import randint\n",
        "\n",
        "datasets_list = [datasets.load_iris(), datasets.load_digits(), datasets.load_wine(), datasets.load_breast_cancer()]\n",
        "dataset_names = [\"Iris\", \"Digits\", \"Wine\", \"Breast Cancer\"]\n",
        "\n",
        "for i, dataset in enumerate(datasets_list):\n",
        "    X, y = dataset.data, dataset.target\n",
        "    acc_count_WKNN = 0\n",
        "    \n",
        "    for j in range(5):\n",
        "        X_train, X_test, y_train, y_test = train_test_split(X, y, test_size=0.2, random_state= 42)\n",
        "\n",
        "        clf = WKNN(k=5)\n",
        "        clf.fit(X_train, y_train)\n",
        "        predictions = clf.predict(X_test)\n",
        "        correct_predictions = np.sum(predictions == y_test)\n",
        "        acc_count_WKNN += correct_predictions\n",
        "\n",
        "\n",
        "    WKNN_accuracy = acc_count_WKNN / (5 * len(y_test))\n",
        "    print(f\"A média da acurácia do algoritmo {dataset_names[i]} foi de {round(WKNN_accuracy, 4)*100}%\")\n"
      ],
      "metadata": {
        "id": "x7xpoDBQJIrA",
        "outputId": "fe307818-13ee-495f-8de8-b9fa63f11ffb",
        "colab": {
          "base_uri": "https://localhost:8080/"
        }
      },
      "id": "x7xpoDBQJIrA",
      "execution_count": null,
      "outputs": [
        {
          "output_type": "stream",
          "name": "stdout",
          "text": [
            "A média da acurácia do algoritmo Iris foi de 100.0%\n",
            "A média da acurácia do algoritmo Digits foi de 98.33%\n",
            "A média da acurácia do algoritmo Wine foi de 77.78%\n",
            "A média da acurácia do algoritmo Breast Cancer foi de 92.97999999999999%\n"
          ]
        }
      ]
    }
  ],
  "metadata": {
    "kernelspec": {
      "display_name": "Python 3",
      "language": "python",
      "name": "python3"
    },
    "language_info": {
      "codemirror_mode": {
        "name": "ipython",
        "version": 3
      },
      "file_extension": ".py",
      "mimetype": "text/x-python",
      "name": "python",
      "nbconvert_exporter": "python",
      "pygments_lexer": "ipython3",
      "version": "3.10.7"
    },
    "vscode": {
      "interpreter": {
        "hash": "ba18286d27dd3f1705df4025c31d2b7021c67fcd01f023a6f194ed0db21ec453"
      }
    },
    "colab": {
      "provenance": []
    }
  },
  "nbformat": 4,
  "nbformat_minor": 5
}